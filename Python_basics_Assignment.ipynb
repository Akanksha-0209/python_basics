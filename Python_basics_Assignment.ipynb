{
  "nbformat": 4,
  "nbformat_minor": 0,
  "metadata": {
    "colab": {
      "provenance": []
    },
    "kernelspec": {
      "name": "python3",
      "display_name": "Python 3"
    },
    "language_info": {
      "name": "python"
    }
  },
  "cells": [
    {
      "cell_type": "markdown",
      "source": [
        "Question 1 : What is Python, and why is it popular ?\n",
        "\n",
        "Answer : Python is high-level, interpreted programming language because it is easy to learn and understand. It is popular due to its library, support, adaptability and versitality in the fields of web development, data analytics, data science etc.\n",
        "\n",
        "Question 2: What is an interpreter in Python?\n",
        "\n",
        "Answer: An interpreter translates and runs python code line by line which helps in easy and interactive programming.\n",
        "\n",
        "Question 3: What are pre-defined keywords in python?\n",
        "\n",
        "Answer: Keywords are reserved words with special meaning in python like else, if, elif, while, for etc.\n",
        "\n",
        "Question 4: Can keywords be used as variable names?\n",
        "\n",
        "Answer: No, Keywords cannot be used as variable names as keywords are reserved for python's syntax.\n",
        "\n",
        "Question 5: What is mutability in Python?\n",
        "\n",
        "Answer: Mutability is the capacity to modify an object's state after it have been formed. Mutable things can be changed like lists and immutable objects like tuples cannot be changed.\n",
        "\n",
        "Question 6: Why are lists mutable, but tuples are immutable?\n",
        "\n",
        "Answer: Lists are dynamic and changeable. We can make changes in the list data structure using append, remove, insert functions but tuples are fixed collections which cannot be modified after they are formed.\n",
        "\n",
        "Question 7:What is the difference between “==” and “is” operators in Python ?\n",
        "\n",
        "Answer: \"==\" is used for comparison of two values. whether the values have similar contents or not.\n",
        "\"is\" indicates the identity.\n",
        "\n",
        "Question 8: What are logical operators in python?\n",
        "\n",
        "Answer: Logical operators combines the multiple boolean conditions. Python has three logical operators these are and, or, not.\n",
        "\n",
        "Question 9: What is type casting in python?\n",
        "\n",
        "Answer: Typecasting refers to converting one data type into another.\n",
        "Example : int to float.\n",
        "\n",
        "Question 10: What is the difference between implicit and explicit type casting?\n",
        "\n",
        "Answer: In Implicit type casting, the data type is automatically converted by python. It is useful when no data loss is expected.\n",
        "In Explicit type casting, the data type is mannually converted by the programmar. It is helpful when full control over the data types is required.\n",
        "\n",
        "Question 11: What is the purpose of conditional statements in python?\n",
        "\n",
        "Answer: Conditional statements are used to make decisions using code. They allow code to execute different actions based on different conditions. Example : if, elif, else .\n",
        "\n",
        "Question 12: How does the elif statement work?\n",
        "\n",
        "Answer: Elif statement is used for multiple conditions between if and else statements. Only the true condition will run.\n",
        "\n",
        "Question 13: What is the difference beftween for and while loops?\n",
        "\n",
        "Answer: For loop is used when we know the number of iterations we need to perform. These loops are based on sequence.\n",
        "Syntax of For Loop  = For i in range(n)\n",
        "On the other hand, while loop is used when we don't know the number of loops. This loop runs as long as the condition is true. It is based  on conditions.\n",
        "Syntax of While loop = While condition:\n",
        "\n",
        "Question 14: Describe a scenario where a while loop is more suitable than a for loop.\n",
        "\n",
        "Answer: While retrying the password input until it succeeds, while loop is suitable.\n"
      ],
      "metadata": {
        "id": "rdRv6MJO4dk6"
      }
    },
    {
      "cell_type": "markdown",
      "source": [
        "Practical Questions :\n",
        "\n",
        "Question 1 : Write a Python program to print \"Hello, World!\""
      ],
      "metadata": {
        "id": "1v-zyZdmo524"
      }
    },
    {
      "cell_type": "code",
      "source": [
        "print(\"Hello, World!\")"
      ],
      "metadata": {
        "colab": {
          "base_uri": "https://localhost:8080/"
        },
        "id": "VMNxodHBo8z4",
        "outputId": "4b3862b0-0647-4038-92b3-6279c5d036fa"
      },
      "execution_count": 11,
      "outputs": [
        {
          "output_type": "stream",
          "name": "stdout",
          "text": [
            "Hello, World!\n"
          ]
        }
      ]
    },
    {
      "cell_type": "markdown",
      "source": [
        "Question 2: Write a Python program that displays your name and age?\n"
      ],
      "metadata": {
        "id": "eOhriH6YpuLg"
      }
    },
    {
      "cell_type": "code",
      "source": [
        "name= \"Akanksha\"\n",
        "age = 25\n",
        "\n",
        "print(\"Name:\",name)\n",
        "print(\"Age:\", age)"
      ],
      "metadata": {
        "colab": {
          "base_uri": "https://localhost:8080/"
        },
        "id": "B7SLCl20pnCA",
        "outputId": "e918e7ab-185b-4eb5-b246-343f4fcfcc4a"
      },
      "execution_count": 12,
      "outputs": [
        {
          "output_type": "stream",
          "name": "stdout",
          "text": [
            "Name: Akanksha\n",
            "Age: 25\n"
          ]
        }
      ]
    },
    {
      "cell_type": "markdown",
      "source": [
        "Question 3: Write code to print all the pre-defined keywords in Python using the keyword library?\n"
      ],
      "metadata": {
        "id": "aNoM4iJsrHnF"
      }
    },
    {
      "cell_type": "code",
      "source": [
        "import keyword\n",
        "print(keyword.kwlist)"
      ],
      "metadata": {
        "colab": {
          "base_uri": "https://localhost:8080/"
        },
        "id": "y0YPV1PJqpj3",
        "outputId": "603e20ac-2be9-4baf-fde9-f080506d6750"
      },
      "execution_count": 13,
      "outputs": [
        {
          "output_type": "stream",
          "name": "stdout",
          "text": [
            "['False', 'None', 'True', 'and', 'as', 'assert', 'async', 'await', 'break', 'class', 'continue', 'def', 'del', 'elif', 'else', 'except', 'finally', 'for', 'from', 'global', 'if', 'import', 'in', 'is', 'lambda', 'nonlocal', 'not', 'or', 'pass', 'raise', 'return', 'try', 'while', 'with', 'yield']\n"
          ]
        }
      ]
    },
    {
      "cell_type": "markdown",
      "source": [
        "Question 4: Write a program that checks if a given word is a Python keyword.\n"
      ],
      "metadata": {
        "id": "ZrWxtKqRrqNG"
      }
    },
    {
      "cell_type": "code",
      "source": [
        "def is_keyword(word):\n",
        "   return keyword.iskeyword(word)\n",
        "print(is_keyword(\"else\"))\n",
        "print(is_keyword(\"Akanksha\"))\n",
        "print(is_keyword(\"break\"))"
      ],
      "metadata": {
        "colab": {
          "base_uri": "https://localhost:8080/"
        },
        "id": "jszwznwcreNP",
        "outputId": "e8973a7b-1089-422b-b5f1-8894b0750ca7"
      },
      "execution_count": 14,
      "outputs": [
        {
          "output_type": "stream",
          "name": "stdout",
          "text": [
            "True\n",
            "False\n",
            "True\n"
          ]
        }
      ]
    },
    {
      "cell_type": "markdown",
      "source": [
        "Question 5:  Create a list and tuple in Python, and demonstrate how attempting to change an element works differently\n",
        "for each."
      ],
      "metadata": {
        "id": "mE3l88PGxzvK"
      }
    },
    {
      "cell_type": "code",
      "source": [
        "list = [1,2,3,4,5]\n",
        "tuple = (1,2,3,4,5)\n",
        "\n",
        "list[1]=100\n",
        "list"
      ],
      "metadata": {
        "colab": {
          "base_uri": "https://localhost:8080/"
        },
        "id": "u301yB4FsiVM",
        "outputId": "e6de28da-1ea7-4331-8422-d16581ab2669"
      },
      "execution_count": 16,
      "outputs": [
        {
          "output_type": "execute_result",
          "data": {
            "text/plain": [
              "[1, 100, 3, 4, 5]"
            ]
          },
          "metadata": {},
          "execution_count": 16
        }
      ]
    },
    {
      "cell_type": "code",
      "source": [
        "try:\n",
        "  tuple[1]=100\n",
        "except TypeError as e:\n",
        "  print(\"Tuple Error\", e)"
      ],
      "metadata": {
        "colab": {
          "base_uri": "https://localhost:8080/"
        },
        "id": "M6y4gWPMyOMs",
        "outputId": "73da9aa8-4db9-452b-d6a5-9c1253e8af60"
      },
      "execution_count": 15,
      "outputs": [
        {
          "output_type": "stream",
          "name": "stdout",
          "text": [
            "Tuple Error 'type' object does not support item assignment\n"
          ]
        }
      ]
    },
    {
      "cell_type": "markdown",
      "source": [
        "Question 6: Write a function to demonstrate the behaviour of mutable and immutable arguments."
      ],
      "metadata": {
        "id": "HyzIQ3vEpE6Z"
      }
    },
    {
      "cell_type": "code",
      "source": [
        "def modify_objects(mutable, immutable):\n",
        "    mutable.append(4)\n",
        "    immutable += \" world\"\n",
        "    return immutable\n",
        "\n",
        "mlist = [1, 2, 3]\n",
        "mstr = \"Hello\"\n",
        "new_str = modify_objects(mlist, mstr)\n",
        "\n",
        "print(mlist)\n",
        "print(new_str)"
      ],
      "metadata": {
        "colab": {
          "base_uri": "https://localhost:8080/"
        },
        "id": "jB7vH5CG-Fjn",
        "outputId": "971590d8-ce9b-4a23-a40e-b6b18fd23e50"
      },
      "execution_count": 17,
      "outputs": [
        {
          "output_type": "stream",
          "name": "stdout",
          "text": [
            "[1, 2, 3, 4]\n",
            "Hello world\n"
          ]
        }
      ]
    },
    {
      "cell_type": "markdown",
      "source": [
        "Question 7: Write a program that performs basic arithmetic operations on two user-input numbers."
      ],
      "metadata": {
        "id": "IYN-U3-XwBsI"
      }
    },
    {
      "cell_type": "code",
      "source": [
        "a = int(input(\"Enter first number: \"))\n",
        "b = int(input(\"Enter second number: \"))\n",
        "print(\"Sum:\", a+b)\n",
        "print(\"Difference:\", a-b)\n",
        "print(\"product:\", a*b)\n",
        "print(\"Quotient\", a/b)"
      ],
      "metadata": {
        "colab": {
          "base_uri": "https://localhost:8080/"
        },
        "id": "pW0YlD9jvFfb",
        "outputId": "946f8b0a-371c-49da-f868-9b6d8ee3ec75"
      },
      "execution_count": 18,
      "outputs": [
        {
          "output_type": "stream",
          "name": "stdout",
          "text": [
            "Enter first number: 4\n",
            "Enter second number: 5\n",
            "Sum: 9\n",
            "Difference: -1\n",
            "product: 20\n",
            "Quotient 0.8\n"
          ]
        }
      ]
    },
    {
      "cell_type": "markdown",
      "source": [
        "Question 8: Write a program to demonstrate the use of logical operators."
      ],
      "metadata": {
        "id": "T9VvoDkbxRRg"
      }
    },
    {
      "cell_type": "code",
      "source": [
        "p= True\n",
        "q= False\n",
        "print(\"p and q:\", p and q)\n",
        "print(\"p or q:\", p or q)\n",
        "print(\"not p:\", not p)\n"
      ],
      "metadata": {
        "colab": {
          "base_uri": "https://localhost:8080/"
        },
        "id": "PwntNzS5w12-",
        "outputId": "3bae9744-29e1-4170-f175-52ef9df73417"
      },
      "execution_count": 20,
      "outputs": [
        {
          "output_type": "stream",
          "name": "stdout",
          "text": [
            "p and q: False\n",
            "p or q: True\n",
            "not p: False\n"
          ]
        }
      ]
    },
    {
      "cell_type": "markdown",
      "source": [
        " Question 9: Write a Python program to convert user input from string to integer, float, and boolean types.\n"
      ],
      "metadata": {
        "id": "VRKZJ1C_0iI_"
      }
    },
    {
      "cell_type": "code",
      "source": [
        "user_input = input(\"Enter something: \")\n",
        "print (int(user_input))\n",
        "print (float(user_input))\n",
        "print (bool(user_input))"
      ],
      "metadata": {
        "colab": {
          "base_uri": "https://localhost:8080/"
        },
        "id": "xaoCev3KyVtF",
        "outputId": "d2a7e457-ffca-422d-8d91-1bcd92fcb673"
      },
      "execution_count": 21,
      "outputs": [
        {
          "output_type": "stream",
          "name": "stdout",
          "text": [
            "Enter something: 34\n",
            "34\n",
            "34.0\n",
            "True\n"
          ]
        }
      ]
    },
    {
      "cell_type": "markdown",
      "source": [
        " Question 10: Write code to demonstrate type casting with list elements.\n"
      ],
      "metadata": {
        "id": "MX5DoeOI29Ht"
      }
    },
    {
      "cell_type": "code",
      "source": [
        "str_list = ['1', '2', '3']\n",
        "int_list = list(map(int, str_list))\n",
        "print(int_list)"
      ],
      "metadata": {
        "colab": {
          "base_uri": "https://localhost:8080/"
        },
        "id": "gCGCsmcAo2rr",
        "outputId": "a4caeb5b-92f6-40e8-dd75-187254465764"
      },
      "execution_count": 46,
      "outputs": [
        {
          "output_type": "stream",
          "name": "stdout",
          "text": [
            "[1, 2, 3]\n"
          ]
        }
      ]
    },
    {
      "cell_type": "markdown",
      "source": [
        "Question 11: Write a program if a number is positive, negative or Zero."
      ],
      "metadata": {
        "id": "yZAt1I5pHYJ_"
      }
    },
    {
      "cell_type": "code",
      "source": [
        "num = int(input(\"Enter a number: \"))\n",
        "if num>0:\n",
        "  print(\"Positive\")\n",
        "elif num<0:\n",
        "  print(\"Negative\")\n",
        "else:\n",
        "    print(\"Zero\")"
      ],
      "metadata": {
        "id": "g16p9G9MIPWB",
        "colab": {
          "base_uri": "https://localhost:8080/"
        },
        "outputId": "c42ba511-f092-497e-ac7b-015a89cae2f2"
      },
      "execution_count": 28,
      "outputs": [
        {
          "output_type": "stream",
          "name": "stdout",
          "text": [
            "Enter a number: 5\n",
            "Positive\n"
          ]
        }
      ]
    },
    {
      "cell_type": "markdown",
      "source": [
        "Question 12: Write a for loop to print numbers from 1 to 10."
      ],
      "metadata": {
        "id": "55ywYyA4MARs"
      }
    },
    {
      "cell_type": "code",
      "source": [
        "for i in range(1,11):\n",
        "  print(i, end = \" \")"
      ],
      "metadata": {
        "colab": {
          "base_uri": "https://localhost:8080/"
        },
        "id": "HSMLBXQ_Lr0C",
        "outputId": "8f353d8d-d18d-4cd3-8b77-d49cb81b4076"
      },
      "execution_count": 27,
      "outputs": [
        {
          "output_type": "stream",
          "name": "stdout",
          "text": [
            "1 2 3 4 5 6 7 8 9 10 "
          ]
        }
      ]
    },
    {
      "cell_type": "markdown",
      "source": [
        "Question 13: Write a Python program to find the sum of all even numbers between 1 and 50."
      ],
      "metadata": {
        "id": "XZJWmEoANYVo"
      }
    },
    {
      "cell_type": "code",
      "source": [
        "total = 0\n",
        "for i in range(2, 51, 2):\n",
        "    total += i\n",
        "print(\"Sum of even numbers:\", total)"
      ],
      "metadata": {
        "colab": {
          "base_uri": "https://localhost:8080/"
        },
        "id": "IzIFV4XsNPj2",
        "outputId": "8f2ae805-af56-44a5-a45c-e9d754d5d129"
      },
      "execution_count": 29,
      "outputs": [
        {
          "output_type": "stream",
          "name": "stdout",
          "text": [
            "Sum of even numbers: 650\n"
          ]
        }
      ]
    },
    {
      "cell_type": "markdown",
      "source": [
        "Question 14: Write a program to reverse a string using a while loop."
      ],
      "metadata": {
        "id": "jwGdcPvIRmiY"
      }
    },
    {
      "cell_type": "code",
      "source": [
        "text = input(\"Enter a String: \")\n",
        "\n",
        "reversed_str = \"\"\n",
        "index = len(text)-1\n",
        "\n",
        "while index >=0:\n",
        "  reversed_str = reversed_str+text[index]\n",
        "  index = index-1\n",
        "print (\"Reversed String:\", reversed_str)\n"
      ],
      "metadata": {
        "colab": {
          "base_uri": "https://localhost:8080/"
        },
        "id": "RQ42IXCGQm3-",
        "outputId": "8790bcfe-b164-41ee-cf09-74232df0845d"
      },
      "execution_count": 30,
      "outputs": [
        {
          "output_type": "stream",
          "name": "stdout",
          "text": [
            "Enter a String: Hello\n",
            "Reversed String: olleH\n"
          ]
        }
      ]
    },
    {
      "cell_type": "markdown",
      "source": [
        "Question 15: Write a Python program to calculate the factorial of a number provided by the user using a while loop."
      ],
      "metadata": {
        "id": "6Bqg030BXjNK"
      }
    },
    {
      "cell_type": "code",
      "source": [
        "User_input = int(input(\"Enter the number: \"))\n",
        "factorial = 1\n",
        "i=1\n",
        "while i <= User_input:\n",
        "  factorial = factorial*i\n",
        "  i=i+1\n",
        "print(\"Factorial of\", User_input, \"is:\", factorial)\n"
      ],
      "metadata": {
        "colab": {
          "base_uri": "https://localhost:8080/"
        },
        "id": "IswLL08GSWPU",
        "outputId": "c559be6f-d54c-4b40-9715-b6430ecc5ca3"
      },
      "execution_count": 10,
      "outputs": [
        {
          "output_type": "stream",
          "name": "stdout",
          "text": [
            "Enter the number: 5\n",
            "Factorial of 5 is: 120\n"
          ]
        }
      ]
    },
    {
      "cell_type": "code",
      "source": [],
      "metadata": {
        "id": "nr3pVJYEa3J6"
      },
      "execution_count": 8,
      "outputs": []
    }
  ]
}